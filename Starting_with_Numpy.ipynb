{
  "nbformat": 4,
  "nbformat_minor": 0,
  "metadata": {
    "colab": {
      "provenance": [],
      "authorship_tag": "ABX9TyNWWFKk7uSvoHLiKOLE3To+",
      "include_colab_link": true
    },
    "kernelspec": {
      "name": "python3",
      "display_name": "Python 3"
    },
    "language_info": {
      "name": "python"
    }
  },
  "cells": [
    {
      "cell_type": "markdown",
      "metadata": {
        "id": "view-in-github",
        "colab_type": "text"
      },
      "source": [
        "<a href=\"https://colab.research.google.com/github/arkapravo-dey/Numpy_Basics/blob/main/Starting_with_Numpy.ipynb\" target=\"_parent\"><img src=\"https://colab.research.google.com/assets/colab-badge.svg\" alt=\"Open In Colab\"/></a>"
      ]
    },
    {
      "cell_type": "markdown",
      "source": [
        "**Numpy is a Python library used for performing linear algebra operations in Python"
      ],
      "metadata": {
        "id": "hHqmM4ygeMiA"
      }
    },
    {
      "cell_type": "markdown",
      "source": [
        "**First lets install numpy in the local environment"
      ],
      "metadata": {
        "id": "g0UvGidpef6A"
      }
    },
    {
      "cell_type": "code",
      "execution_count": null,
      "metadata": {
        "colab": {
          "base_uri": "https://localhost:8080/"
        },
        "id": "ukzpiFprbXdO",
        "outputId": "f162b3f4-03c6-480e-9b30-a37157096a9d"
      },
      "outputs": [
        {
          "output_type": "stream",
          "name": "stdout",
          "text": [
            "Requirement already satisfied: numpy in /usr/local/lib/python3.10/dist-packages (1.25.2)\n"
          ]
        }
      ],
      "source": [
        "!pip install numpy"
      ]
    },
    {
      "cell_type": "markdown",
      "source": [
        "**Importing Numpy library as np for more convenience while\n",
        "writing the code"
      ],
      "metadata": {
        "id": "0dctpCqsdgJd"
      }
    },
    {
      "cell_type": "code",
      "source": [
        "import numpy as np"
      ],
      "metadata": {
        "id": "rqXeJb22dMPa"
      },
      "execution_count": null,
      "outputs": []
    },
    {
      "cell_type": "markdown",
      "source": [
        "** When we use numpy arrays for machine learning or data science, we deal with numpy arrays. Numpy arrays are broadly of two types :-\n",
        "\n",
        "\n",
        "*   Matrices - Matrices are usually two dimensional\n",
        "*   Vectors - Vectors are strictly one dimensional. So vectors are a subset of matrices\n",
        "\n"
      ],
      "metadata": {
        "id": "P8Vbax60ewyo"
      }
    },
    {
      "cell_type": "markdown",
      "source": [
        "**Creating a list and the converting it into an 1Dimensional array"
      ],
      "metadata": {
        "id": "DsQn4GducBKf"
      }
    },
    {
      "cell_type": "code",
      "source": [
        "list1 = [1,2,3,4]\n",
        "array1 = np.array(list1)\n",
        "print(array1)"
      ],
      "metadata": {
        "colab": {
          "base_uri": "https://localhost:8080/"
        },
        "id": "g2KHoIC7b_zN",
        "outputId": "1de21366-86d0-460f-abbf-bd706631ff6c"
      },
      "execution_count": null,
      "outputs": [
        {
          "output_type": "stream",
          "name": "stdout",
          "text": [
            "[1 2 3 4]\n"
          ]
        }
      ]
    },
    {
      "cell_type": "markdown",
      "source": [
        "**Creating a list of list and converting it into a multi-dimensional array"
      ],
      "metadata": {
        "id": "bXo2LMU7fS-5"
      }
    },
    {
      "cell_type": "code",
      "source": [
        "list2 = [[1,2,3],[4,5,6],[7,8,9]]\n",
        "np.array(list2)"
      ],
      "metadata": {
        "id": "bcQiBZk6da_l",
        "colab": {
          "base_uri": "https://localhost:8080/"
        },
        "outputId": "7fb41fdc-ceec-40cd-b3ee-3abba20396bc"
      },
      "execution_count": null,
      "outputs": [
        {
          "output_type": "execute_result",
          "data": {
            "text/plain": [
              "array([[1, 2, 3],\n",
              "       [4, 5, 6],\n",
              "       [7, 8, 9]])"
            ]
          },
          "metadata": {},
          "execution_count": 4
        }
      ]
    },
    {
      "cell_type": "markdown",
      "source": [
        "**Numpy arrays using built-in methods"
      ],
      "metadata": {
        "id": "uuahuoIkhPV-"
      }
    },
    {
      "cell_type": "markdown",
      "source": [
        "**(start,stop,step)"
      ],
      "metadata": {
        "id": "gNd4cBO1halb"
      }
    },
    {
      "cell_type": "code",
      "source": [
        "np.arange(0,10,1)"
      ],
      "metadata": {
        "colab": {
          "base_uri": "https://localhost:8080/"
        },
        "id": "pkf4DgZ2hUJ0",
        "outputId": "52808523-85cd-4431-8328-2dd292c11796"
      },
      "execution_count": null,
      "outputs": [
        {
          "output_type": "execute_result",
          "data": {
            "text/plain": [
              "array([0, 1, 2, 3, 4, 5, 6, 7, 8, 9])"
            ]
          },
          "metadata": {},
          "execution_count": 5
        }
      ]
    },
    {
      "cell_type": "code",
      "source": [
        "arr1 = np.arange(0,15,2) #arr1 = [0,2,4,6,8,10,12,14]\n",
        "arr1.size"
      ],
      "metadata": {
        "colab": {
          "base_uri": "https://localhost:8080/"
        },
        "id": "50fEc-v9hp68",
        "outputId": "85b5a4c5-a7a9-4ab8-e84c-ae817a483fc8"
      },
      "execution_count": null,
      "outputs": [
        {
          "output_type": "execute_result",
          "data": {
            "text/plain": [
              "8"
            ]
          },
          "metadata": {},
          "execution_count": 6
        }
      ]
    },
    {
      "cell_type": "markdown",
      "source": [
        "**Array of zeroes"
      ],
      "metadata": {
        "id": "AsBEMxDdiJT4"
      }
    },
    {
      "cell_type": "code",
      "source": [
        "arr = np.zeros(5)\n",
        "print(arr)\n",
        "arr.dtype"
      ],
      "metadata": {
        "colab": {
          "base_uri": "https://localhost:8080/"
        },
        "id": "YVcJrIx8h-Xi",
        "outputId": "fdcc1dd6-cc3f-42c1-ff4f-e86afab7b38e"
      },
      "execution_count": null,
      "outputs": [
        {
          "output_type": "stream",
          "name": "stdout",
          "text": [
            "[0. 0. 0. 0. 0.]\n"
          ]
        },
        {
          "output_type": "execute_result",
          "data": {
            "text/plain": [
              "dtype('float64')"
            ]
          },
          "metadata": {},
          "execution_count": 7
        }
      ]
    },
    {
      "cell_type": "code",
      "source": [
        "a = np.zeros((3,2)) #(rows,columns)\n",
        "print(a)\n",
        "a.dtype"
      ],
      "metadata": {
        "colab": {
          "base_uri": "https://localhost:8080/"
        },
        "id": "qlBwKveGirTw",
        "outputId": "64f85e31-b3a4-4a1b-ea10-127c89e00d7c"
      },
      "execution_count": null,
      "outputs": [
        {
          "output_type": "stream",
          "name": "stdout",
          "text": [
            "[[0. 0.]\n",
            " [0. 0.]\n",
            " [0. 0.]]\n"
          ]
        },
        {
          "output_type": "execute_result",
          "data": {
            "text/plain": [
              "dtype('float64')"
            ]
          },
          "metadata": {},
          "execution_count": 8
        }
      ]
    },
    {
      "cell_type": "markdown",
      "source": [
        "**Creating an array of ones(similar to what we have done for zeroes)"
      ],
      "metadata": {
        "id": "8bsQzg-IjSMe"
      }
    },
    {
      "cell_type": "code",
      "source": [
        "print(np.ones((5,3)).dtype)\n",
        "print(np.ones((5,3)))"
      ],
      "metadata": {
        "colab": {
          "base_uri": "https://localhost:8080/"
        },
        "id": "z0I0GGgZjGjR",
        "outputId": "10040d73-6b01-4876-e998-849ed4e9150f"
      },
      "execution_count": null,
      "outputs": [
        {
          "output_type": "stream",
          "name": "stdout",
          "text": [
            "float64\n",
            "[[1. 1. 1.]\n",
            " [1. 1. 1.]\n",
            " [1. 1. 1.]\n",
            " [1. 1. 1.]\n",
            " [1. 1. 1.]]\n"
          ]
        }
      ]
    },
    {
      "cell_type": "markdown",
      "source": [
        "**Creating an identity matrix"
      ],
      "metadata": {
        "id": "xiUgqbIw0Hby"
      }
    },
    {
      "cell_type": "code",
      "source": [
        "np.eye(3)"
      ],
      "metadata": {
        "colab": {
          "base_uri": "https://localhost:8080/"
        },
        "id": "1AuqhUAR0NHf",
        "outputId": "d7f1c0ba-c6cc-40cb-d925-44dc5742339f"
      },
      "execution_count": null,
      "outputs": [
        {
          "output_type": "execute_result",
          "data": {
            "text/plain": [
              "array([[1., 0., 0.],\n",
              "       [0., 1., 0.],\n",
              "       [0., 0., 1.]])"
            ]
          },
          "metadata": {},
          "execution_count": 10
        }
      ]
    },
    {
      "cell_type": "markdown",
      "source": [
        "**Creating a random array of dimension(a,b)"
      ],
      "metadata": {
        "id": "lXhZCLfj0gwf"
      }
    },
    {
      "cell_type": "code",
      "source": [
        "np.random.rand(4,2)"
      ],
      "metadata": {
        "colab": {
          "base_uri": "https://localhost:8080/"
        },
        "id": "KzEPi8A00T9I",
        "outputId": "7d181be2-1a38-4213-88ae-db696b804254"
      },
      "execution_count": null,
      "outputs": [
        {
          "output_type": "execute_result",
          "data": {
            "text/plain": [
              "array([[0.78958972, 0.45653691],\n",
              "       [0.86109375, 0.10862068],\n",
              "       [0.96861885, 0.66786927],\n",
              "       [0.66082138, 0.67903059]])"
            ]
          },
          "metadata": {},
          "execution_count": 11
        }
      ]
    },
    {
      "cell_type": "markdown",
      "source": [
        "**Some built-in array operations"
      ],
      "metadata": {
        "id": "LnIRWd_Z02AH"
      }
    },
    {
      "cell_type": "code",
      "source": [
        "arr1 = np.arange(10,100,5)\n",
        "arr1"
      ],
      "metadata": {
        "colab": {
          "base_uri": "https://localhost:8080/"
        },
        "id": "RmexPBSc0652",
        "outputId": "ea8a7ee1-b8b9-4e7f-d58b-5347341b795c"
      },
      "execution_count": null,
      "outputs": [
        {
          "output_type": "execute_result",
          "data": {
            "text/plain": [
              "array([10, 15, 20, 25, 30, 35, 40, 45, 50, 55, 60, 65, 70, 75, 80, 85, 90,\n",
              "       95])"
            ]
          },
          "metadata": {},
          "execution_count": 12
        }
      ]
    },
    {
      "cell_type": "code",
      "source": [
        "print(arr1.shape)\n",
        "print(arr1.size)"
      ],
      "metadata": {
        "colab": {
          "base_uri": "https://localhost:8080/"
        },
        "id": "vNsZjMrR1ABa",
        "outputId": "3a56afcd-4e41-41d6-baa1-1f2ec5acbd78"
      },
      "execution_count": null,
      "outputs": [
        {
          "output_type": "stream",
          "name": "stdout",
          "text": [
            "(18,)\n",
            "18\n"
          ]
        }
      ]
    },
    {
      "cell_type": "code",
      "source": [
        "arr = arr1.reshape(2,9)\n",
        "print(arr.shape)\n",
        "print(arr.size)"
      ],
      "metadata": {
        "colab": {
          "base_uri": "https://localhost:8080/"
        },
        "id": "y6wt37Tq1K5V",
        "outputId": "ff63f326-4c06-412c-fbdb-48dc2812bfa7"
      },
      "execution_count": null,
      "outputs": [
        {
          "output_type": "stream",
          "name": "stdout",
          "text": [
            "(2, 9)\n",
            "18\n"
          ]
        }
      ]
    },
    {
      "cell_type": "markdown",
      "source": [
        "**Finding the maximum and minimum elements"
      ],
      "metadata": {
        "id": "st4c1Dje2kFS"
      }
    },
    {
      "cell_type": "code",
      "source": [
        "print(arr1.max())\n",
        "print(arr1.min())"
      ],
      "metadata": {
        "colab": {
          "base_uri": "https://localhost:8080/"
        },
        "id": "kOJTWv662o_I",
        "outputId": "dbc78dab-cd66-4852-b15e-e83c082f0f30"
      },
      "execution_count": null,
      "outputs": [
        {
          "output_type": "stream",
          "name": "stdout",
          "text": [
            "95\n",
            "10\n"
          ]
        }
      ]
    },
    {
      "cell_type": "code",
      "source": [
        "print(arr1.shape)\n",
        "print(arr.shape)"
      ],
      "metadata": {
        "colab": {
          "base_uri": "https://localhost:8080/"
        },
        "id": "e-ihkjTS22vR",
        "outputId": "91473425-b35e-4b22-9dd3-405c7c5702b6"
      },
      "execution_count": null,
      "outputs": [
        {
          "output_type": "stream",
          "name": "stdout",
          "text": [
            "(18,)\n",
            "(2, 9)\n"
          ]
        }
      ]
    },
    {
      "cell_type": "code",
      "source": [
        "print(arr1)"
      ],
      "metadata": {
        "colab": {
          "base_uri": "https://localhost:8080/"
        },
        "id": "K8OQHuOX3F35",
        "outputId": "c3534aae-7777-41d4-c728-ba39bc917859"
      },
      "execution_count": null,
      "outputs": [
        {
          "output_type": "stream",
          "name": "stdout",
          "text": [
            "[10 15 20 25 30 35 40 45 50 55 60 65 70 75 80 85 90 95]\n"
          ]
        }
      ]
    },
    {
      "cell_type": "markdown",
      "source": [
        "**1D arrays"
      ],
      "metadata": {
        "id": "AFuju0TO3lmB"
      }
    },
    {
      "cell_type": "code",
      "source": [
        "arr1[17] #arrays follow 0 based indexing"
      ],
      "metadata": {
        "colab": {
          "base_uri": "https://localhost:8080/"
        },
        "id": "Dfw9uWdP3hWw",
        "outputId": "64ceb7b3-1cda-4162-9680-779e4ce99602"
      },
      "execution_count": null,
      "outputs": [
        {
          "output_type": "execute_result",
          "data": {
            "text/plain": [
              "95"
            ]
          },
          "metadata": {},
          "execution_count": 19
        }
      ]
    },
    {
      "cell_type": "code",
      "source": [
        "arr1[1:6] #prints elements in the array with index 2,3,4"
      ],
      "metadata": {
        "colab": {
          "base_uri": "https://localhost:8080/"
        },
        "id": "11u6i5xN3vvV",
        "outputId": "c8314dc8-565f-4a6f-ffcf-f0c3f95d19dd"
      },
      "execution_count": null,
      "outputs": [
        {
          "output_type": "execute_result",
          "data": {
            "text/plain": [
              "array([15, 20, 25, 30, 35])"
            ]
          },
          "metadata": {},
          "execution_count": 20
        }
      ]
    },
    {
      "cell_type": "code",
      "source": [
        "arr1_copy=arr1.copy()\n",
        "arr1_copy[12:16]=60 #replace 60 in the index positions 12,13,14 and 15\n",
        "arr1_copy"
      ],
      "metadata": {
        "colab": {
          "base_uri": "https://localhost:8080/"
        },
        "id": "G8T-jccl36h_",
        "outputId": "912c4df3-1c99-47e0-842d-b06d5d8a3ac2"
      },
      "execution_count": null,
      "outputs": [
        {
          "output_type": "execute_result",
          "data": {
            "text/plain": [
              "array([10, 15, 20, 25, 30, 35, 40, 45, 50, 55, 60, 65, 60, 60, 60, 60, 90,\n",
              "       95])"
            ]
          },
          "metadata": {},
          "execution_count": 21
        }
      ]
    },
    {
      "cell_type": "markdown",
      "source": [
        "**2D array"
      ],
      "metadata": {
        "id": "yiNmLscI4QBv"
      }
    },
    {
      "cell_type": "code",
      "source": [
        "arr2 = np.array([[1,2,3],[4,5,6],[7,8,9]])\n",
        "print(arr2)\n",
        "print(arr2.size)"
      ],
      "metadata": {
        "colab": {
          "base_uri": "https://localhost:8080/"
        },
        "id": "1onOOT3o4L9W",
        "outputId": "8394ec9d-03c1-4431-b3e7-6dd5ed554653"
      },
      "execution_count": null,
      "outputs": [
        {
          "output_type": "stream",
          "name": "stdout",
          "text": [
            "[[1 2 3]\n",
            " [4 5 6]\n",
            " [7 8 9]]\n",
            "9\n"
          ]
        }
      ]
    },
    {
      "cell_type": "markdown",
      "source": [
        "**2D array indexing(similar to what is done in C and C++)"
      ],
      "metadata": {
        "id": "Yf8WmJhp4jY-"
      }
    },
    {
      "cell_type": "code",
      "source": [
        "arr2[2][1]"
      ],
      "metadata": {
        "colab": {
          "base_uri": "https://localhost:8080/"
        },
        "id": "_GUElc0O4h58",
        "outputId": "42913e6e-0235-4c61-e1c8-2a679640d5ef"
      },
      "execution_count": null,
      "outputs": [
        {
          "output_type": "execute_result",
          "data": {
            "text/plain": [
              "8"
            ]
          },
          "metadata": {},
          "execution_count": 23
        }
      ]
    },
    {
      "cell_type": "markdown",
      "source": [
        "**Finding a subpart of a matrix:\n",
        "To get the subpart of a matrix: \" : value \" will consider all rows/columns before that value row/column(exclusive). \" value : \" will consider all rows/columns after value row/column(inclusive)."
      ],
      "metadata": {
        "id": "Bvwnadv948Vj"
      }
    },
    {
      "cell_type": "code",
      "source": [
        "arr2[:1,1:]"
      ],
      "metadata": {
        "id": "k4h9ArfM40f9",
        "colab": {
          "base_uri": "https://localhost:8080/"
        },
        "outputId": "ebd40750-c312-4691-ba17-0f0a856b9198"
      },
      "execution_count": null,
      "outputs": [
        {
          "output_type": "execute_result",
          "data": {
            "text/plain": [
              "array([[2, 3]])"
            ]
          },
          "metadata": {},
          "execution_count": 24
        }
      ]
    },
    {
      "cell_type": "markdown",
      "source": [
        "**Boolean array"
      ],
      "metadata": {
        "id": "e_LSFdiy-hpd"
      }
    },
    {
      "cell_type": "code",
      "source": [
        "print(arr1)"
      ],
      "metadata": {
        "colab": {
          "base_uri": "https://localhost:8080/"
        },
        "id": "ldnb8zSL-lqE",
        "outputId": "10c84466-1d79-4309-d369-1d83d6d5ef8f"
      },
      "execution_count": null,
      "outputs": [
        {
          "output_type": "stream",
          "name": "stdout",
          "text": [
            "[10 15 20 25 30 35 40 45 50 55 60 65 70 75 80 85 90 95]\n"
          ]
        }
      ]
    },
    {
      "cell_type": "code",
      "source": [
        "boolean_array = ((arr1 % 3)==0)\n",
        "print(boolean_array)"
      ],
      "metadata": {
        "colab": {
          "base_uri": "https://localhost:8080/"
        },
        "id": "2lQPVLWD-q3Y",
        "outputId": "d4986c85-5653-4589-8bfd-4fa69a81d890"
      },
      "execution_count": null,
      "outputs": [
        {
          "output_type": "stream",
          "name": "stdout",
          "text": [
            "[False  True False False  True False False  True False False  True False\n",
            " False  True False False  True False]\n"
          ]
        }
      ]
    },
    {
      "cell_type": "markdown",
      "source": [
        "**Arithmetic operations on arrays"
      ],
      "metadata": {
        "id": "KnMUM7z7_Mr6"
      }
    },
    {
      "cell_type": "code",
      "source": [
        "print(arr1 + arr1)"
      ],
      "metadata": {
        "colab": {
          "base_uri": "https://localhost:8080/"
        },
        "id": "XWU7sdGi_Rj7",
        "outputId": "46d4a677-f620-44e4-9774-872858a74d36"
      },
      "execution_count": null,
      "outputs": [
        {
          "output_type": "stream",
          "name": "stdout",
          "text": [
            "[ 20  30  40  50  60  70  80  90 100 110 120 130 140 150 160 170 180 190]\n"
          ]
        }
      ]
    },
    {
      "cell_type": "code",
      "source": [
        "a = np.arange(0,35,2)\n",
        "print(a)"
      ],
      "metadata": {
        "colab": {
          "base_uri": "https://localhost:8080/"
        },
        "id": "dpZ8NweZ_v8C",
        "outputId": "444ccc40-e5a2-47aa-8500-d9ada0e5ec52"
      },
      "execution_count": null,
      "outputs": [
        {
          "output_type": "stream",
          "name": "stdout",
          "text": [
            "[ 0  2  4  6  8 10 12 14 16 18 20 22 24 26 28 30 32 34]\n"
          ]
        }
      ]
    },
    {
      "cell_type": "code",
      "source": [
        "print(arr1 * a) #element wise multiplication"
      ],
      "metadata": {
        "colab": {
          "base_uri": "https://localhost:8080/"
        },
        "id": "7Yn8sHztAK_N",
        "outputId": "d3990681-e570-4672-fe0e-e25cc39634c6"
      },
      "execution_count": null,
      "outputs": [
        {
          "output_type": "stream",
          "name": "stdout",
          "text": [
            "[   0   30   80  150  240  350  480  630  800  990 1200 1430 1680 1950\n",
            " 2240 2550 2880 3230]\n"
          ]
        }
      ]
    },
    {
      "cell_type": "code",
      "source": [
        "a1 = np.array([[10,20,30],[40,50,60]])\n",
        "print(a1.shape)\n",
        "a2 = np.array([[1,2],[3,4],[5,6]])\n",
        "print(a2.shape)"
      ],
      "metadata": {
        "colab": {
          "base_uri": "https://localhost:8080/"
        },
        "id": "xNanhdwoAS1R",
        "outputId": "4246605f-ef75-4b21-a29e-d14a007414c1"
      },
      "execution_count": null,
      "outputs": [
        {
          "output_type": "stream",
          "name": "stdout",
          "text": [
            "(2, 3)\n",
            "(3, 2)\n"
          ]
        }
      ]
    },
    {
      "cell_type": "code",
      "source": [
        "print(a1)\n",
        "print(a2.T)"
      ],
      "metadata": {
        "colab": {
          "base_uri": "https://localhost:8080/"
        },
        "id": "JVWQD0f_BUOg",
        "outputId": "ab48efda-ad88-4bb7-abc5-faf6868ae94a"
      },
      "execution_count": null,
      "outputs": [
        {
          "output_type": "stream",
          "name": "stdout",
          "text": [
            "[[10 20 30]\n",
            " [40 50 60]]\n",
            "[[1 3 5]\n",
            " [2 4 6]]\n"
          ]
        }
      ]
    },
    {
      "cell_type": "code",
      "source": [
        "print(a1*a2) #element wise multiplication is not possible unless the shapes are same"
      ],
      "metadata": {
        "colab": {
          "base_uri": "https://localhost:8080/",
          "height": 141
        },
        "id": "E_ghBBoQB0hT",
        "outputId": "af58cee2-9062-4f75-feec-dc0bf6c00f47"
      },
      "execution_count": null,
      "outputs": [
        {
          "output_type": "error",
          "ename": "ValueError",
          "evalue": "operands could not be broadcast together with shapes (2,3) (3,2) ",
          "traceback": [
            "\u001b[0;31m---------------------------------------------------------------------------\u001b[0m",
            "\u001b[0;31mValueError\u001b[0m                                Traceback (most recent call last)",
            "\u001b[0;32m<ipython-input-36-e50f3093d3ef>\u001b[0m in \u001b[0;36m<cell line: 1>\u001b[0;34m()\u001b[0m\n\u001b[0;32m----> 1\u001b[0;31m \u001b[0mprint\u001b[0m\u001b[0;34m(\u001b[0m\u001b[0ma1\u001b[0m\u001b[0;34m*\u001b[0m\u001b[0ma2\u001b[0m\u001b[0;34m)\u001b[0m\u001b[0;34m\u001b[0m\u001b[0;34m\u001b[0m\u001b[0m\n\u001b[0m",
            "\u001b[0;31mValueError\u001b[0m: operands could not be broadcast together with shapes (2,3) (3,2) "
          ]
        }
      ]
    },
    {
      "cell_type": "code",
      "source": [
        "print(a1*(a2.T))"
      ],
      "metadata": {
        "colab": {
          "base_uri": "https://localhost:8080/"
        },
        "id": "nuwjCOfWBr50",
        "outputId": "5d50d50f-08c6-4c12-a330-3dfe39f1fe27"
      },
      "execution_count": null,
      "outputs": [
        {
          "output_type": "stream",
          "name": "stdout",
          "text": [
            "[[ 10  60 150]\n",
            " [ 80 200 360]]\n"
          ]
        }
      ]
    },
    {
      "cell_type": "markdown",
      "source": [
        "**Understanding the difference between normal matrix multiplication(dot product) and element-wise-multiplication"
      ],
      "metadata": {
        "id": "Fsba8ZLzCN9C"
      }
    },
    {
      "cell_type": "markdown",
      "source": [
        "(2 * 3) * (3 * 2) --> (2 * 2)"
      ],
      "metadata": {
        "id": "udlIaQM8CtyB"
      }
    },
    {
      "cell_type": "code",
      "source": [
        "print(np.dot(a1,a2))"
      ],
      "metadata": {
        "colab": {
          "base_uri": "https://localhost:8080/"
        },
        "id": "n7ZitFqyCHZF",
        "outputId": "5f7c4927-1249-495a-ea80-d4745ebd5fbf"
      },
      "execution_count": null,
      "outputs": [
        {
          "output_type": "stream",
          "name": "stdout",
          "text": [
            "[[220 280]\n",
            " [490 640]]\n"
          ]
        }
      ]
    },
    {
      "cell_type": "markdown",
      "source": [
        "(3 * 2) * ( 2 * 3) --> (3 * 3)"
      ],
      "metadata": {
        "id": "1KbmmizVC16C"
      }
    },
    {
      "cell_type": "code",
      "source": [
        "print(np.dot(a2,a1))"
      ],
      "metadata": {
        "colab": {
          "base_uri": "https://localhost:8080/"
        },
        "id": "PyJO8vqwDCYl",
        "outputId": "32e7130f-8497-4524-ed3d-03bd6d72c327"
      },
      "execution_count": null,
      "outputs": [
        {
          "output_type": "stream",
          "name": "stdout",
          "text": [
            "[[ 90 120 150]\n",
            " [190 260 330]\n",
            " [290 400 510]]\n"
          ]
        }
      ]
    },
    {
      "cell_type": "code",
      "source": [
        "print(np.multiply(a1,a1))\n",
        "print(np.multiply(a2,a2))\n",
        "print(np.multiply(a1.T,a1.T))\n",
        "print(np.multiply(a2.T,a2.T))"
      ],
      "metadata": {
        "colab": {
          "base_uri": "https://localhost:8080/"
        },
        "id": "pM5eEug7DIeA",
        "outputId": "3dae7514-5c79-4b02-ff88-3cf75c8fd878"
      },
      "execution_count": null,
      "outputs": [
        {
          "output_type": "stream",
          "name": "stdout",
          "text": [
            "[[ 100  400  900]\n",
            " [1600 2500 3600]]\n",
            "[[ 1  4]\n",
            " [ 9 16]\n",
            " [25 36]]\n",
            "[[ 100 1600]\n",
            " [ 400 2500]\n",
            " [ 900 3600]]\n",
            "[[ 1  9 25]\n",
            " [ 4 16 36]]\n"
          ]
        }
      ]
    },
    {
      "cell_type": "markdown",
      "source": [
        "**flattening an array of multiple dimensions into a single dimension"
      ],
      "metadata": {
        "id": "H-_6du1aDw15"
      }
    },
    {
      "cell_type": "code",
      "source": [
        "a1.ravel()"
      ],
      "metadata": {
        "colab": {
          "base_uri": "https://localhost:8080/"
        },
        "id": "gBnjxMrVDlR8",
        "outputId": "89e262e7-bbc2-4c39-c02c-67c5cc014539"
      },
      "execution_count": null,
      "outputs": [
        {
          "output_type": "execute_result",
          "data": {
            "text/plain": [
              "array([10, 20, 30, 40, 50, 60])"
            ]
          },
          "metadata": {},
          "execution_count": 41
        }
      ]
    },
    {
      "cell_type": "code",
      "source": [
        "a2.ravel()"
      ],
      "metadata": {
        "colab": {
          "base_uri": "https://localhost:8080/"
        },
        "id": "L4h2r78ODsS5",
        "outputId": "e83fbede-aab9-431a-dc3e-28abd0f83843"
      },
      "execution_count": null,
      "outputs": [
        {
          "output_type": "execute_result",
          "data": {
            "text/plain": [
              "array([1, 2, 3, 4, 5, 6])"
            ]
          },
          "metadata": {},
          "execution_count": 42
        }
      ]
    }
  ]
}